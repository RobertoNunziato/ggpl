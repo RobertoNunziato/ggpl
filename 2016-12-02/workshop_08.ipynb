{
 "cells": [
  {
   "cell_type": "markdown",
   "metadata": {},
   "source": [
    "# Workshop n° 8 : House modeling"
   ]
  },
  {
   "cell_type": "markdown",
   "metadata": {},
   "source": [
    "# Roberto Nunziato, matricola 438778"
   ]
  },
  {
   "cell_type": "markdown",
   "metadata": {},
   "source": [
    "# Descrizione"
   ]
  },
  {
   "cell_type": "markdown",
   "metadata": {},
   "source": [
    "L'obiettivo di questo workshop è quello di realizzare il modello tridimensionale di una casa, il cui modello di planimetria preso come riferimento e scaricato da web è il seguente:"
   ]
  },
  {
   "cell_type": "markdown",
   "metadata": {},
   "source": [
    "![text alt](images/planimetriaCasa.jpg)"
   ]
  },
  {
   "cell_type": "markdown",
   "metadata": {},
   "source": [
    "Per la realizzazione, attraverso il programma Inkscape ho ottenuto i file .svg che rappresentano rispettivamente:\n",
    "\n",
    "1) Mura perimetrali (svgFile/planimetria.svg)        \n",
    "2) Mura interne (svgFile/muriInterni.svg)       \n",
    "3) Porte (svgFile/porte.svg)        \n",
    "4) Finestre (svgFile/finestre.svg)         \n",
    "5) Pavimento (svgFile/pavimento.svg)      "
   ]
  },
  {
   "cell_type": "markdown",
   "metadata": {},
   "source": [
    "Successivamente, dopo aver convertito ogni file nei corrispondenti file .files, questi sono stati usati per la realizzazione del modello complessivo"
   ]
  },
  {
   "cell_type": "markdown",
   "metadata": {},
   "source": [
    "# Librerie importate"
   ]
  },
  {
   "cell_type": "code",
   "execution_count": 1,
   "metadata": {
    "collapsed": false
   },
   "outputs": [
    {
     "name": "stdout",
     "output_type": "stream",
     "text": [
      "Evaluating fenvs.py..\n",
      "...fenvs.py imported in 0.006158 seconds\n"
     ]
    },
    {
     "name": "stderr",
     "output_type": "stream",
     "text": [
      "//anaconda/lib/python2.7/site-packages/larlib-0.3.2-py2.7.egg/larlib/larstruct.py:233: FutureWarning: comparison to `None` will result in an elementwise object comparison in the future.\n",
      "  self.body = [item for item in data if item != None]\n"
     ]
    }
   ],
   "source": [
    "from larlib import *\n",
    "from pyplasm import *"
   ]
  },
  {
   "cell_type": "markdown",
   "metadata": {},
   "source": [
    "# Codice per la realizzazione del modello della casa"
   ]
  },
  {
   "cell_type": "code",
   "execution_count": 2,
   "metadata": {
    "collapsed": false
   },
   "outputs": [],
   "source": [
    "def drawHouse():\n",
    "    #Disegno le mura perimetrali della casa\n",
    "    externalWall = lines2lines(\"linesFile/planimetria.lines\")\n",
    "    plan = STRUCT(AA(POLYLINE)(externalWall))\n",
    "    plan = OFFSET([5,5])(plan)\n",
    "    heigth = QUOTE([100])\n",
    "    plan3dExternalWall = PROD([plan,heigth])\n",
    "\n",
    "    #Disegno le mura interna della casa\n",
    "    internalWall = lines2lines(\"linesFile/muriInterni.lines\")\n",
    "    plan = STRUCT(AA(POLYLINE)(internalWall))\n",
    "    plan = OFFSET([5,5])(plan)\n",
    "    heigth = QUOTE([100])\n",
    "    plan3dInternalWall = PROD([plan,heigth])\n",
    "\n",
    "    #Associo alla variabile internalAndExternalWall il disegno combinato\n",
    "    #delle mura perimetrali e delle mura interne\n",
    "    internalAndExternalWall = (STRUCT([plan3dExternalWall,plan3dInternalWall]))\n",
    "\n",
    "    #Disegno il pavimento\n",
    "    floor = lines2lines(\"linesFile/pavimento.lines\")\n",
    "    plan = STRUCT(AA(POLYLINE)(floor))\n",
    "    plan = OFFSET([5.5,5.5])(plan)\n",
    "    heigth = QUOTE([0])\n",
    "    plan3dFloor = PROD([plan,heigth])\n",
    "\n",
    "    #Disegno le porte\n",
    "    door = lines2lines(\"linesFile/porte.lines\")\n",
    "    plan = STRUCT(AA(POLYLINE)(door))\n",
    "    plan = OFFSET([5,5])(plan)\n",
    "    heigth = QUOTE([100])\n",
    "    plan3dDoor = PROD([plan,heigth])\n",
    "\n",
    "    #Disegno le finestre\n",
    "    window = lines2lines(\"linesFile/finestre.lines\")\n",
    "    plan = STRUCT(AA(POLYLINE)(window))\n",
    "    plan = OFFSET([5,5])(plan)\n",
    "    heigth = QUOTE([50])\n",
    "    plan3dWindow = PROD([plan,heigth])\n",
    "\n",
    "    #Associo alla variabile doorAndWindow il disegno combinato\n",
    "    #di porte e finestre\n",
    "    doorAndWindow = STRUCT([plan3dDoor,T([1,2,3])([0,0,20])(plan3dWindow)])\n",
    "\n",
    "    #Escludo dal disegno i box inerenti a porte e finestre\n",
    "    struct = DIFFERENCE([internalAndExternalWall,doorAndWindow])\n",
    "    #Costruisco la struttura finale, associando delle texture per le mura ed i pavimenti\n",
    "    house = STRUCT([TEXTURE(\"images/wallTexture.jpg\")(struct),TEXTURE(\"images/floorTexture.jpg\")(plan3dFloor)])\n",
    "    \n",
    "    VIEW(house)\n",
    "\n",
    "drawHouse()"
   ]
  },
  {
   "cell_type": "markdown",
   "metadata": {},
   "source": [
    "# Screenshot del modello finale"
   ]
  },
  {
   "cell_type": "markdown",
   "metadata": {},
   "source": [
    "![text alt](Screenshot/Screenshot.png)\n",
    "![text alt](Screenshot/Screenshot2.png)\n",
    "![text alt](Screenshot/Screenshot3.png)\n",
    "![text alt](Screenshot/Screenshot4.png)"
   ]
  }
 ],
 "metadata": {
  "anaconda-cloud": {},
  "kernelspec": {
   "display_name": "Python [default]",
   "language": "python",
   "name": "python2"
  },
  "language_info": {
   "codemirror_mode": {
    "name": "ipython",
    "version": 2
   },
   "file_extension": ".py",
   "mimetype": "text/x-python",
   "name": "python",
   "nbconvert_exporter": "python",
   "pygments_lexer": "ipython2",
   "version": "2.7.12"
  }
 },
 "nbformat": 4,
 "nbformat_minor": 1
}
