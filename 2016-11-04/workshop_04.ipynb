{
 "cells": [
  {
   "cell_type": "markdown",
   "metadata": {},
   "source": [
    "# Workshop n° 4: Parametric House Roofs"
   ]
  },
  {
   "cell_type": "markdown",
   "metadata": {},
   "source": [
    "# Roberto Nunziato, matricola 438778"
   ]
  },
  {
   "cell_type": "markdown",
   "metadata": {},
   "source": [
    "# Descrizione"
   ]
  },
  {
   "cell_type": "markdown",
   "metadata": {},
   "source": [
    "L'obiettivo di questo workshop è quello di realizzare un modello di tetto. Nella realizzazione, sono state prese come riferimento le seguenti immagini:\n",
    "\n",
    "1) Modello di tetto semplice"
   ]
  },
  {
   "cell_type": "markdown",
   "metadata": {},
   "source": [
    "![img text](tetto1.jpg)"
   ]
  },
  {
   "cell_type": "markdown",
   "metadata": {},
   "source": [
    "2) Modello di tetto complesso"
   ]
  },
  {
   "cell_type": "markdown",
   "metadata": {},
   "source": [
    "![img text](tetto2.jpg)"
   ]
  },
  {
   "cell_type": "markdown",
   "metadata": {},
   "source": [
    "# Librerie importate"
   ]
  },
  {
   "cell_type": "code",
   "execution_count": 1,
   "metadata": {
    "collapsed": false
   },
   "outputs": [
    {
     "name": "stdout",
     "output_type": "stream",
     "text": [
      "Evaluating fenvs.py..\n",
      "...fenvs.py imported in 0.008488 seconds\n"
     ]
    }
   ],
   "source": [
    "from pyplasm import *\n",
    "from fpformat import *"
   ]
  },
  {
   "cell_type": "markdown",
   "metadata": {},
   "source": [
    "Per prima cosa, costruiamo in pianta i modelli dei tetti di riferimento indicando i loro vertici e le celle: \n",
    "\n",
    "- <b>tettoSemplice</b> sarà il modello della figura n°1                                                                         \n",
    "- <b>tettoComplesso</b> sarà il modello della figura n°2"
   ]
  },
  {
   "cell_type": "code",
   "execution_count": 2,
   "metadata": {
    "collapsed": true
   },
   "outputs": [],
   "source": [
    "vertici = [[1,1,0],[9,1,0],[9,5,0],[1,5,0],[3,3,0],[3,3,2],[7,3,0],[7,3,2]]\n",
    "celle = [[1,2,5,6,7,8],[1,4,5,6],[2,3,7,8],[3,4,5,6,7,8]]\n",
    "tettoSemplice = MKPOL([vertici,celle,None])\n",
    "\n",
    "vertici2 = [[0,1.5,0],[0,3,0],[0,3,1],[0,4.5,0],[3,1.5,0],[3.75,3,0],[3.75,3,1],[3,4.5,0],\n",
    "            [3,0,0],[4,0,0],[4,0,1.5],[5,0,0],[5,7,0],[4,7,0],[4,7,1.5],[3,7,0]]\n",
    "celle2 = [[1,2,3,4],[5,6,7,8],[1,5,6,7,3,2],[2,3,4,6,7,8],\n",
    "            [9,10,11,12],[13,14,15,16],[14,15,16,9,10,11],[10,11,12,13,14,15]]\n",
    "tettoComplesso = MKPOL([vertici2,celle2,None])"
   ]
  },
  {
   "cell_type": "markdown",
   "metadata": {},
   "source": [
    "La funzione principale è <b>ggpl_roof_builder</b>: dato un oggetto HPC di input (il disegno del tetto), attraverso le funzioni <b>UKPOL</b> e <b>SKEL_2</b> vengono presi tutti i punti dell'oggetto che sono divisi in due liste, quella dei vertici (<b>roofVertex</b>) e quella delle facce (<b>roofCells</b>).\n",
    "Le liste verranno successive ripulite da eventuali doppioni ed i valori numerici arrotondati alla terza cifra decimale; le liste finali (<b>vertex</b> e <b>cells</b>) saranno quindi usate per definire la copertura  che verrà appoggiata sullo scheletro del tetto (<b>skeleton1</b>). <b>struttura</b> e <b>skeleton1</b> sono i modelli che verranno passati al metodo <b>STRUCT</b> per andare a definire l'oggetto HPC finale (<b>roof</b>), il quale verrà visualizzato attraverso la funzione <b>VIEW</b>."
   ]
  },
  {
   "cell_type": "code",
   "execution_count": 3,
   "metadata": {
    "collapsed": false,
    "scrolled": false
   },
   "outputs": [],
   "source": [
    "def ggpl_roof_builder(hpc):\n",
    "    skeleton1 = OFFSET([0.1,0.1,0.1])(SKEL_1(hpc)) #1-scheletro della struttura del tetto\n",
    "    skeleton2 = UKPOL(SKEL_2(hpc)) #2-scheletro della struttura del tetto\n",
    "    roofVertex = skeleton2[0] #lista dei vertici\n",
    "    roofCells = skeleton2[1]  #lista delle celle\n",
    "    \n",
    "    #Ciclo la lista delle celle, per andare a sostituire agli indici dei punti,\n",
    "    #le rispettive coordinate [x,y,z]\n",
    "    cells2vertex = []\n",
    "    #cell è una tripla [indiceX,indiceY,indiceZ]\n",
    "    for cell in roofCells:\n",
    "        l = []\n",
    "        #index è iterativamente indiceX,indiceY ed indiceZ,a cui sostituisco le coordinate effettive\n",
    "        for index in cell:\n",
    "            l.append(roofVertex[index-1])\n",
    "        cells2vertex.append(l)\n",
    "    \n",
    "    #Cicliamo la lista costruita al passo precedente, per andare ad arrotondare tutti i valori\n",
    "    #alla terza cifra decimale\n",
    "    vertexCleanFinal = []\n",
    "    for v in cells2vertex:\n",
    "        lista = []\n",
    "        for i in v:\n",
    "            l = []\n",
    "            for n in i:\n",
    "                n = float(fix(n,3))\n",
    "                l.append(n)\n",
    "            lista.append(l)    \n",
    "        vertexCleanFinal.append(lista)  \n",
    "\n",
    "    #In questo ciclo eliminiamo dalla lista precedente i doppioni\n",
    "    vertexClean = [] #lista pulita di vertex(senza doppioni)\n",
    "    for elem in vertexCleanFinal:\n",
    "        for i in elem:\n",
    "            if i not in vertexClean:\n",
    "                vertexClean.append(i)\n",
    "            else:\n",
    "                i = vertexClean.index(i)\n",
    "    \n",
    "    #In questo ciclo, data la lista dei vertici ripulita da ogni doppione,\n",
    "    #ricostruiamo la lista delle celle facendo il procedimento opposto a quello fatto\n",
    "    #nel primo passo\n",
    "    cells = []  #lista finale di celle\n",
    "    for v in vertexCleanFinal:\n",
    "        l = []\n",
    "        for i in v:\n",
    "            l.append(vertexClean.index(i)+1)\n",
    "        cells.append(l)\n",
    "    \n",
    "    #Costruiamo la lista finale di vertici che verrà usata per la costruzione della struttura finale,\n",
    "    #andando a prendere i soli punti perimetrali\n",
    "    vertex = [] #lista finale di vertici\n",
    "    trovato = 0\n",
    "    for v in vertexClean:\n",
    "        if v[2]>0: #z!=0\n",
    "            vertex.append(v)\n",
    "        else: #z==0\n",
    "            for v2 in vertexClean:\n",
    "                if v2[2]>0: #andiamo a vedere se c'è un punto sopra a quello con coordinata z=0, in quel caso\n",
    "                            #lo prendiamo\n",
    "                    if v2[0]==v[0] and v2[1]==v[1]:\n",
    "                        vertex.append(v2)\n",
    "                        trovato = 1\n",
    "            if not trovato: #se il vertice non ha un punto superiore, allora è un punto perimetrale, quindi lo\n",
    "                            #prendiamo\n",
    "                vertex.append(v)\n",
    "            trovato = 0\n",
    "\n",
    "    struttura=MKPOL([vertex,cells,None])\n",
    "    struttura=STRUCT([T(3)(0.1),struttura])\n",
    "    struttura=OFFSET([0.1,0.1,0.1])(struttura)\n",
    "    roof= STRUCT([struttura,skeleton1])            \n",
    "            \n",
    "    return VIEW(roof)       "
   ]
  },
  {
   "cell_type": "code",
   "execution_count": 4,
   "metadata": {
    "collapsed": false
   },
   "outputs": [
    {
     "data": {
      "text/plain": [
       "<pyplasm.xgepy.Hpc; proxy of <Swig Object of type 'std::shared_ptr< Hpc > *' at 0x10dfedb70> >"
      ]
     },
     "execution_count": 4,
     "metadata": {},
     "output_type": "execute_result"
    }
   ],
   "source": [
    "ggpl_roof_builder(tettoComplesso)"
   ]
  },
  {
   "cell_type": "markdown",
   "metadata": {},
   "source": [
    "# Risultato ottenuto"
   ]
  },
  {
   "cell_type": "markdown",
   "metadata": {},
   "source": [
    "1) Oggetto HPC del <b>tettoSemplice</b>"
   ]
  },
  {
   "cell_type": "markdown",
   "metadata": {},
   "source": [
    "![alt-text](tettoSemplice1.png)\n",
    "![alt-text](tettoSemplice2.png)"
   ]
  },
  {
   "cell_type": "markdown",
   "metadata": {},
   "source": [
    "2) Oggetto HPC del <b>tettoComplesso</b>"
   ]
  },
  {
   "cell_type": "markdown",
   "metadata": {},
   "source": [
    "![alt-text](tettoComplesso1.png)\n",
    "![alt-text](tettoComplesso2.png)"
   ]
  }
 ],
 "metadata": {
  "anaconda-cloud": {},
  "kernelspec": {
   "display_name": "Python [default]",
   "language": "python",
   "name": "python2"
  },
  "language_info": {
   "codemirror_mode": {
    "name": "ipython",
    "version": 2
   },
   "file_extension": ".py",
   "mimetype": "text/x-python",
   "name": "python",
   "nbconvert_exporter": "python",
   "pygments_lexer": "ipython2",
   "version": "2.7.12"
  }
 },
 "nbformat": 4,
 "nbformat_minor": 1
}
