{
 "cells": [
  {
   "cell_type": "markdown",
   "metadata": {},
   "source": [
    "# Workshop n°3: Building stairs with landings"
   ]
  },
  {
   "cell_type": "markdown",
   "metadata": {},
   "source": [
    "# Roberto Nunziato, matricola: 438778"
   ]
  },
  {
   "cell_type": "markdown",
   "metadata": {},
   "source": [
    "<h2>Descrizione</h2>"
   ]
  },
  {
   "cell_type": "markdown",
   "metadata": {},
   "source": [
    "L'obiettivo di questo workshop è quello di realizzare la struttura di una scala, prendendo come riferimento il seguente disegno:"
   ]
  },
  {
   "cell_type": "markdown",
   "metadata": {},
   "source": [
    "![alt text](open-ustairs.jpg)"
   ]
  },
  {
   "cell_type": "markdown",
   "metadata": {},
   "source": [
    "<h2>Librerie importate</h2>"
   ]
  },
  {
   "cell_type": "code",
   "execution_count": 15,
   "metadata": {
    "collapsed": false
   },
   "outputs": [],
   "source": [
    "from pyplasm import *\n",
    "from larlib import *"
   ]
  },
  {
   "cell_type": "markdown",
   "metadata": {},
   "source": [
    "<h2>Funzione che disegna il modello della scalinata</h2>"
   ]
  },
  {
   "cell_type": "markdown",
   "metadata": {},
   "source": [
    "La funzione realizzata prende in input i parametri relativi allo spazio in cui verra disegnata la scala (dx,dy e dz):\n",
    "lo spazio verrà suddiviso prendendo in considerazione dei valori ideali per le alzate e per le pedate dei singoli gradini"
   ]
  },
  {
   "cell_type": "code",
   "execution_count": 16,
   "metadata": {
    "collapsed": false
   },
   "outputs": [],
   "source": [
    "\"\"\"\n",
    "    Funzione ggpl_stairs_with_landings\n",
    "    input: dx,dy,dz\n",
    "    output: Hpc Object\n",
    "\"\"\"\n",
    "def ggpl_stairs_with_landings(dx,dy,dz):\n",
    "    pianerottoloX = 1\n",
    "    pianerottoloY = dy\n",
    "    #Prendiamo come riferimento dei valori ideali di pedata e alzata\n",
    "    pedataIdeale = .29\n",
    "    alzataIdeale = .17\n",
    "    #Larghezza del gradino\n",
    "    larghezza = DIV([dy,2])\n",
    "    dzMezzi = DIV([dz,2])\n",
    "    #Determiniamo il numero dei gradini e le misure di pedata e alzata effettive\n",
    "    pedataTot = dx - 2*pianerottoloX\n",
    "    restoPedata = modf(pedataTot/pedataIdeale)[0]\n",
    "    numGradini = modf(pedataTot/pedataIdeale)[1]\n",
    "    pedata = DIV([pedataTot,numGradini])\n",
    "    alzata = DIV([dzMezzi,numGradini+1])\n",
    "    #Costruiamo la prima rampa di scale\n",
    "    scala = []\n",
    "    for x in range(0,int(numGradini)):\n",
    "        scala.append(CUBOID([pedata,larghezza,alzata]))\n",
    "        scala.append(T([1,2,3])([pedata,0,alzata]))\n",
    "    #Inseriamo il primo pianerottolo\n",
    "    scala.append(CUBOID([pianerottoloX,pianerottoloY,alzata]))\n",
    "    scala.append(R([1,2])(PI))\n",
    "    scala.append(T([1,2,3])([0,-2*larghezza,alzata]))\n",
    "    #Costruiamo la seconda rampa di scale\n",
    "    for x in range(0,int(numGradini)):\n",
    "        scala.append(CUBOID([pedata,larghezza,alzata]))\n",
    "        scala.append(T([1,2,3])([pedata,0,alzata]))\n",
    "    #Inseriamo il secondo pianerottolo\n",
    "    scala.append(CUBOID([pianerottoloX,pianerottoloY,alzata]))\n",
    "    scala.append(R([1,2])(PI))\n",
    "    #Verifichiamo la correttezza delle misure\n",
    "    print(SIZE([1,2,3])(BOX([1,2,3])(STRUCT(scala))))\n",
    "    \n",
    "    VIEW(STRUCT(scala))"
   ]
  },
  {
   "cell_type": "code",
   "execution_count": 17,
   "metadata": {
    "collapsed": false
   },
   "outputs": [
    {
     "name": "stdout",
     "output_type": "stream",
     "text": [
      "[5.0, 5.0, 3.5099995136260986]\n"
     ]
    }
   ],
   "source": [
    "ggpl_stairs_with_landings(5,5,3.51)    "
   ]
  },
  {
   "cell_type": "markdown",
   "metadata": {},
   "source": [
    "<h2>Risultato ottenuto: </h2>"
   ]
  },
  {
   "cell_type": "markdown",
   "metadata": {},
   "source": [
    "![alt text](Screenshot.png)"
   ]
  }
 ],
 "metadata": {
  "anaconda-cloud": {},
  "kernelspec": {
   "display_name": "Python [default]",
   "language": "python",
   "name": "python2"
  },
  "language_info": {
   "codemirror_mode": {
    "name": "ipython",
    "version": 2
   },
   "file_extension": ".py",
   "mimetype": "text/x-python",
   "name": "python",
   "nbconvert_exporter": "python",
   "pygments_lexer": "ipython2",
   "version": "2.7.12"
  }
 },
 "nbformat": 4,
 "nbformat_minor": 1
}
