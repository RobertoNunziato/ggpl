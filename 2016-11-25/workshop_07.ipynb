{
 "cells": [
  {
   "cell_type": "markdown",
   "metadata": {},
   "source": [
    "# Workshop n° 7: Modeling wooden doors and windows"
   ]
  },
  {
   "cell_type": "markdown",
   "metadata": {},
   "source": [
    "# Roberto Nunziato, matricola 438778"
   ]
  },
  {
   "cell_type": "markdown",
   "metadata": {},
   "source": [
    "# Descrizione"
   ]
  },
  {
   "cell_type": "markdown",
   "metadata": {},
   "source": [
    "L'obiettivo di questo workshop è quello di realizzare i modelli di:\n",
    "\n",
    "1) Porta     \n",
    "2) Finestra"
   ]
  },
  {
   "cell_type": "markdown",
   "metadata": {},
   "source": [
    "# Librerie importate"
   ]
  },
  {
   "cell_type": "code",
   "execution_count": 1,
   "metadata": {
    "collapsed": false
   },
   "outputs": [
    {
     "name": "stdout",
     "output_type": "stream",
     "text": [
      "Evaluating fenvs.py..\n",
      "...fenvs.py imported in 0.007141 seconds\n"
     ]
    }
   ],
   "source": [
    "from pyplasm import *"
   ]
  },
  {
   "cell_type": "code",
   "execution_count": 2,
   "metadata": {
    "collapsed": true
   },
   "outputs": [],
   "source": [
    "#Funzione di supporto che prende come parametro di input l'array delle dimensioni lungo X,Y o Z\n",
    "#e restituisce in output la lunghezza lungo X,Y o Z della porta/finestra\n",
    "def getLength(list):\n",
    "    length = 0\n",
    "    for elem in list:\n",
    "        length = length + elem\n",
    "    return length"
   ]
  },
  {
   "cell_type": "markdown",
   "metadata": {},
   "source": [
    "# Modello n°1: Porta"
   ]
  },
  {
   "cell_type": "markdown",
   "metadata": {},
   "source": [
    "Nella funzione seguente verrà definito il codice per la realizzazione del modello di una porta, la cui immagine di riferimento presa dal web è la seguente:"
   ]
  },
  {
   "cell_type": "markdown",
   "metadata": {},
   "source": [
    "![text alt](door.jpg)"
   ]
  },
  {
   "cell_type": "markdown",
   "metadata": {},
   "source": [
    "il codice per la costruzione del modello della porta è così strutturato:    \n",
    "\n",
    "1) La funzione più esterna <b>door</b> ha come parametri in input:      \n",
    "\n",
    "    -X = array contenente i valori delle misure della porta lungo l'asse X   \n",
    "    -Y = array monodimensionale(l'unico valore presente rappresenta lo spessore della porta)    \n",
    "    -Z = array contenente i valori delle misure della porta lungo l'asse Z    \n",
    "    -occupancy = array di valori booleani(1=True,0=False) che rappresentano l'informazione secondo cui una cella                 è piena (legno) o vuota (spazio per il vetro)    \n",
    "    \n",
    "   La funzione <b>door</b> richiama la funzione interna <b>drawDoor</b>\n",
    "    \n",
    "2) La funzione più interna <b>drawDoor</b> ha come parametri in input:\n",
    "    \n",
    "    -dx = dimensionamento dell'oggetto lungo l'asse X\n",
    "    -dy = dimensionamento dell'oggetto lungo l'asse Y\n",
    "    -dz = dimensionamento dell'oggetto lungo l'asse Z\n",
    "    \n",
    "   La funzione <b>drawDoor</b>, sulla base dei parametri in input, restituisce in output l'oggetto HPC della porta\n",
    "    "
   ]
  },
  {
   "cell_type": "code",
   "execution_count": 3,
   "metadata": {
    "collapsed": false
   },
   "outputs": [
    {
     "data": {
      "text/plain": [
       "<pyplasm.xgepy.Hpc; proxy of <Swig Object of type 'std::shared_ptr< Hpc > *' at 0x1050ec120> >"
      ]
     },
     "execution_count": 3,
     "metadata": {},
     "output_type": "execute_result"
    }
   ],
   "source": [
    "X = [.1,.6,.1]\n",
    "Y = [.05]\n",
    "Z = [.3,.2,.2,.2,.2,.2,.2,.2,.3]\n",
    "occupancy = [[1,1,1],[1,0,1],[1,1,1],[1,0,1],[1,1,1],[1,0,1],[1,1,1],[1,0,1],[1,1,1]]\n",
    "glassDepth = .01\n",
    "\n",
    "def door(X,Y,Z,occupancy):\n",
    "    def drawDoor(dx,dy,dz):           \n",
    "        #Verifico se va effettuato un cambiamento di scala lungo X\n",
    "        if(dx<getLength(X)):\n",
    "            scaling = (dx/getLength(X)*1.)\n",
    "            for i in range(0,len(X)):\n",
    "                X[i] = X[i]*scaling\n",
    "        #Verifico se va effettuato un cambiamento di scala lungo Y\n",
    "        if(dy<Y[0]):\n",
    "            scaling = (dy/Y[0]*1.)\n",
    "            Y[0] = Y[0]*scaling\n",
    "        #Verifico se va effettuato un cambiamento di scala lungo Z\n",
    "        if(dz<getLength(Z)):\n",
    "            scaling = (dz/getLength(Z)*1.)\n",
    "            for i in range(0,len(Z)):\n",
    "                Z[i] = Z[i]*scaling\n",
    "              \n",
    "        length = getLength(X)\n",
    "        draw = []        \n",
    "        #Mi scorro l'array Z delle 'strisce' orizzontali\n",
    "        for zI in range(0,len(Z)):\n",
    "            #Mi prendo il vettore di booleani(Es: [1,1,1])\n",
    "            vector = occupancy[zI]\n",
    "            cont = 0\n",
    "            #Per ogni valore booleano, controllo se la cella deve essere piena(legno) o vuota(vetro)\n",
    "            for xI in vector:\n",
    "                if xI==1:\n",
    "                    draw.append(COLOR([51/255.,25/255.,0,1]))\n",
    "                    prod1 = PROD([QUOTE([X[cont]]),QUOTE(Y)])\n",
    "                    prod2 = PROD([prod1,QUOTE([Z[zI]])])\n",
    "                    draw.append(prod2)\n",
    "                if xI==0:\n",
    "                    draw.append(COLOR([224/255.,224/255.,224/255.,1]))\n",
    "                    prod1 = PROD([QUOTE([X[cont]]),QUOTE([glassDepth])])\n",
    "                    prod2 = PROD([prod1,QUOTE([Z[zI]])])\n",
    "                    draw.append(T([1,2,3])([0,Y[0]/2-glassDepth/2,0]))\n",
    "                    draw.append(prod2)\n",
    "                    draw.append(T([1,2,3])([0,-Y[0]/2+glassDepth/2,0]))                    \n",
    "                draw.append(T([1,2,3])([X[cont],0,0]))\n",
    "                cont = cont+1\n",
    "            #Mi riposiziono lungo l'asse del valore della lunghezza ed alzandomi di quello dell'altezza del blocco\n",
    "            draw.append(T([1,2,3])([-length,0,Z[zI]]))\n",
    "        \n",
    "        #Disegno la maniglia della porta\n",
    "        draw.append(COLOR([224/255.,224/255.,224/255.,1]))\n",
    "        draw.append(T([1,2,3])([.03,-.01,-getLength(Z)/2]))\n",
    "        handle = CUBOID([.1,.01,.01])\n",
    "        draw.append(handle)\n",
    "        return STRUCT(draw)\n",
    "    return drawDoor\n",
    "\n",
    "VIEW(door(X,Y,Z,occupancy)(1,.05,3))"
   ]
  },
  {
   "cell_type": "markdown",
   "metadata": {},
   "source": [
    "# Screenshot dell'oggetto HPC ottenuto"
   ]
  },
  {
   "cell_type": "markdown",
   "metadata": {},
   "source": [
    "![text alt](Screenshot porta.png)\n",
    "![text alt](Screenshot porta2.png)\n",
    "![text alt](Screenshot porta3.png)"
   ]
  },
  {
   "cell_type": "markdown",
   "metadata": {},
   "source": [
    "# Modello n°2: Finestra "
   ]
  },
  {
   "cell_type": "markdown",
   "metadata": {},
   "source": [
    "Nella funzione seguente verrà definito il codice per la realizzazione del modello di una finestra, la cui immagine di riferimento presa dal web è la seguente:"
   ]
  },
  {
   "cell_type": "markdown",
   "metadata": {},
   "source": [
    "![text alt](window.jpg)"
   ]
  },
  {
   "cell_type": "markdown",
   "metadata": {},
   "source": [
    "il codice per la costruzione del modello della finestra è così strutturato:    \n",
    "\n",
    "1) La funzione più esterna <b>window</b> ha come parametri in input:      \n",
    "\n",
    "    -X = array contenente i valori delle misure della finestra lungo l'asse X   \n",
    "    -Y = array monodimensionale(l'unico valore presente rappresenta lo spessore della finestra)    \n",
    "    -Z = array contenente i valori delle misure della finestra lungo l'asse Z    \n",
    "    -occupancy = array di valori booleani(1=True,0=False) che rappresentano l'informazione secondo cui una cella                 è piena (legno) o vuota (spazio per il vetro)    \n",
    "    \n",
    "   La funzione <b>window</b> richiama la funzione interna <b>drawWindow</b>\n",
    "    \n",
    "2) La funzione più interna <b>drawWindow</b> ha come parametri in input:\n",
    "    \n",
    "    -dx = dimensionamento dell'oggetto lungo l'asse X\n",
    "    -dy = dimensionamento dell'oggetto lungo l'asse Y\n",
    "    -dz = dimensionamento dell'oggetto lungo l'asse Z\n",
    "    \n",
    "   La funzione <b>drawWindow</b>, sulla base dei parametri in input, restituisce in output l'oggetto HPC della porta\n",
    "    "
   ]
  },
  {
   "cell_type": "code",
   "execution_count": 4,
   "metadata": {
    "collapsed": false
   },
   "outputs": [
    {
     "data": {
      "text/plain": [
       "<pyplasm.xgepy.Hpc; proxy of <Swig Object of type 'std::shared_ptr< Hpc > *' at 0x111f3c600> >"
      ]
     },
     "execution_count": 4,
     "metadata": {},
     "output_type": "execute_result"
    }
   ],
   "source": [
    "X2 = [.1,.5,.05,.5,.1,.1,.5,.05,.5,.1]\n",
    "Y2 = [.05]\n",
    "Z2 = [.1,.60,.02,.60,.02,.60,.1,.60,.1]\n",
    "occupancy2 = [[1,1,1,1,1,1,1,1,1,1],[1,0,1,0,1,1,0,1,0,1],[1,1,1,1,1,1,1,1,1,1],\n",
    "              [1,0,1,0,1,1,0,1,0,1],[1,1,1,1,1,1,1,1,1,1],[1,0,1,0,1,1,0,1,0,1],\n",
    "              [1,1,1,1,1,1,1,1,1,1],[1,0,0,0,0,0,0,0,0,1],[1,1,1,1,1,1,1,1,1,1]]\n",
    "\n",
    "def window(X2,Y2,Z2,occupancy2):\n",
    "    def drawWindow(dx,dy,dz):  \n",
    "        #Verifico se va effettuato un cambiamento di scala lungo X\n",
    "        if(dx<getLength(X2)):\n",
    "            scaling = (dx/getLength(X2)*1.)\n",
    "            for i in range(0,len(X2)):\n",
    "                X2[i] = X2[i]*scaling\n",
    "        #Verifico se va effettuato un cambiamento di scala lungo Y\n",
    "        if(dy<Y2[0]):\n",
    "            scaling = (dy/Y2[0]*1.)\n",
    "            Y2[0] = Y2[0]*scaling\n",
    "        #Verifico se va effettuato un cambiamento di scala lungo Z\n",
    "        if(dz<getLength(Z2)):\n",
    "            scaling = (dz/getLength(Z2)*1.)\n",
    "            for i in range(0,len(Z2)):\n",
    "                Z2[i] = Z2[i]*scaling\n",
    "     \n",
    "        length = getLength(X2)\n",
    "        window = []    \n",
    "        for zI in range(0,len(Z2)):\n",
    "            vector = occupancy2[zI]\n",
    "            cont = 0\n",
    "            for xI in vector:\n",
    "                if xI==1:\n",
    "                    window.append(COLOR([160/255.,82/255.,45/255.,1]))\n",
    "                    prod1 = PROD([QUOTE([X2[cont]]),QUOTE(Y2)])\n",
    "                    prod2 = PROD([prod1,QUOTE([Z2[zI]])])\n",
    "                    window.append(prod2)         \n",
    "                if xI==0:\n",
    "                    window.append(COLOR([204/255.,255,255,1]))\n",
    "                    prod1 = PROD([QUOTE([X2[cont]]),QUOTE([glassDepth])])\n",
    "                    prod2 = PROD([prod1,QUOTE([Z2[zI]])])\n",
    "                    window.append(T([1,2,3])([0,Y2[0]/2-glassDepth/2,0]))\n",
    "                    window.append(prod2)\n",
    "                    window.append(T([1,2,3])([0,-Y2[0]/2+glassDepth/2,0]))\n",
    "\n",
    "                window.append(T([1,2,3])([X2[cont],0,0]))\n",
    "                cont = cont+1\n",
    "            window.append(T([1,2,3])([-length,0,Z2[zI]]))\n",
    "            \n",
    "        #Disegno la maniglia della finestra\n",
    "        window.append(COLOR(BLACK))\n",
    "        window.append(T([1,2,3])([getLength(X2)/2.,-.02,-getLength(Z2)/2.-.4]))\n",
    "        handle = CUBOID([.02,.02,.2])\n",
    "        window.append(handle)\n",
    "\n",
    "        return STRUCT(window)\n",
    "    return drawWindow\n",
    "\n",
    "VIEW(window(X2,Y2,Z2,occupancy2)(2.5,.05,2.74))"
   ]
  },
  {
   "cell_type": "markdown",
   "metadata": {},
   "source": [
    "# Screenshot dell'oggetto HPC ottenuto"
   ]
  },
  {
   "cell_type": "markdown",
   "metadata": {},
   "source": [
    "![text alt](Screenshot finestra.png)\n",
    "![text alt](Screenshot finestra2.png)\n",
    "![text alt](Screenshot finestra3.png)"
   ]
  }
 ],
 "metadata": {
  "anaconda-cloud": {},
  "kernelspec": {
   "display_name": "Python [default]",
   "language": "python",
   "name": "python2"
  },
  "language_info": {
   "codemirror_mode": {
    "name": "ipython",
    "version": 2
   },
   "file_extension": ".py",
   "mimetype": "text/x-python",
   "name": "python",
   "nbconvert_exporter": "python",
   "pygments_lexer": "ipython2",
   "version": "2.7.12"
  }
 },
 "nbformat": 4,
 "nbformat_minor": 1
}
