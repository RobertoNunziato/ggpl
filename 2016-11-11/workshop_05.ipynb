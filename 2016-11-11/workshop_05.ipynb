{
 "cells": [
  {
   "cell_type": "markdown",
   "metadata": {},
   "source": [
    "# Workshop n° 5: School furniture"
   ]
  },
  {
   "cell_type": "markdown",
   "metadata": {},
   "source": [
    "# Roberto Nunziato, matricola 438778"
   ]
  },
  {
   "cell_type": "markdown",
   "metadata": {},
   "source": [
    "# Descrizione"
   ]
  },
  {
   "cell_type": "markdown",
   "metadata": {},
   "source": [
    "L'obiettivo di questo workshop è quello di definire i modelli di diverse forniture scolastiche. In particolare, verranno presi in considerazione dei modelli di:\n",
    "\n",
    "1) Cattedra                                         \n",
    "2) Sedia            \n",
    "3) Lavagna   \n",
    "4) Banco\n",
    "\n",
    "Inizialmente saranno scritte le funzioni che definiscono gli oggetti singoli, poi quest'ultimi saranno assemblati insieme nella definizione di una tipica aula scolastica"
   ]
  },
  {
   "cell_type": "markdown",
   "metadata": {},
   "source": [
    "# Librerie importate"
   ]
  },
  {
   "cell_type": "code",
   "execution_count": 45,
   "metadata": {
    "collapsed": false
   },
   "outputs": [],
   "source": [
    "from pyplasm import *"
   ]
  },
  {
   "cell_type": "markdown",
   "metadata": {},
   "source": [
    "# Modello n°1 : Cattedra"
   ]
  },
  {
   "cell_type": "markdown",
   "metadata": {},
   "source": [
    "La seguente funzione prende in input dei riferimenti spaziali (dx,dy,dz) e restituisce in output l'oggetto HPC raffigurante una cattedra, il cui modello preso come riferimento è il seguente:"
   ]
  },
  {
   "cell_type": "markdown",
   "metadata": {},
   "source": [
    "![text alt](cattedra.jpg)"
   ]
  },
  {
   "cell_type": "code",
   "execution_count": 46,
   "metadata": {
    "collapsed": false
   },
   "outputs": [],
   "source": [
    "def disegnaCattedra(dx,dy,dz):\n",
    "    disegnoCattedra = []\n",
    "    disegnoPiedi = []\n",
    "    disegnoTraviCattedra = []\n",
    "    disegnoPannelli = []\n",
    "    disegnoCassetti = []\n",
    "    spessoreCattedra = .06\n",
    "    raggioPiede = .05   \n",
    "    altezzaCattedra = dz-spessoreCattedra\n",
    "\n",
    "    #Disegno della base della cattedra\n",
    "    disegnoCattedra.append(COLOR([250/255.,235/255.,215/255.,1]))\n",
    "    disegnoCattedra.append(T([1,2,3])([0,0,altezzaCattedra]))\n",
    "    cattedra = CUBOID([dx,dy,spessoreCattedra])\n",
    "    disegnoCattedra.append(cattedra)\n",
    "    \n",
    "    #Disegno dei piedi della cattedra\n",
    "    centroPiedeX = dx*.04\n",
    "    centroPiedeY = dy*.10\n",
    "    disegnoPiedi.append(COLOR([64/255.,64/255.,64/255.,1]))\n",
    "    disegnoPiedi.append(T([1,2,3])([centroPiedeX,centroPiedeY,0]))\n",
    "    piede = CYLINDER([raggioPiede,altezzaCattedra])(100)\n",
    "    disegnoPiedi.append(piede)\n",
    "    disegnoPiedi.append(T([1,2,3])([dx-2*centroPiedeX,0,0]))\n",
    "    disegnoPiedi.append(piede)\n",
    "    disegnoPiedi.append(T([1,2,3])([0,dy-2*centroPiedeY,0]))\n",
    "    disegnoPiedi.append(piede)\n",
    "    disegnoPiedi.append(T([1,2,3])([-dx+2*centroPiedeX,0,0]))\n",
    "    disegnoPiedi.append(piede)\n",
    "    \n",
    "    #Disegno delle travi della cattedra\n",
    "    spessoreTrave = spessoreCattedra\n",
    "    disegnoTraviCattedra.append(COLOR([64/255.,64/255.,64/255.,1]))\n",
    "    disegnoTraviCattedra.append(T([1,2,3])([centroPiedeX,centroPiedeY,altezzaCattedra-spessoreCattedra]))\n",
    "    traveLunga = CUBOID([dx-2*centroPiedeX,spessoreTrave,spessoreTrave])\n",
    "    disegnoTraviCattedra.append(traveLunga)    \n",
    "    traveCorta = CUBOID([spessoreTrave,dy-2*centroPiedeY,spessoreTrave])\n",
    "    disegnoTraviCattedra.append(traveCorta)\n",
    "    disegnoTraviCattedra.append(T([1,2,3])([0,dy-2*centroPiedeY-raggioPiede,0]))\n",
    "    disegnoTraviCattedra.append(traveLunga)\n",
    "    disegnoTraviCattedra.append(T([1,2,3])([dx-2*centroPiedeX-raggioPiede,-(dy-2*centroPiedeY-raggioPiede),0]))\n",
    "    disegnoTraviCattedra.append(traveCorta)\n",
    "\n",
    "    #Disegno dei pannelli della cattedra\n",
    "    spessorePannello = spessoreCattedra/2.\n",
    "    disegnoPannelli.append(COLOR([250/255.,235/255.,215/255.,1]))\n",
    "    disegnoPannelli.append(T([1,2,3])([centroPiedeX-raggioPiede-spessorePannello,0,altezzaCattedra-spessoreTrave-altezzaCattedra/2.]))\n",
    "    pannelloCorto = CUBOID([spessorePannello,dy-centroPiedeY,altezzaCattedra/2.])\n",
    "    disegnoPannelli.append(T([1,2,3])([0,centroPiedeY-raggioPiede,0]))\n",
    "    disegnoPannelli.append(pannelloCorto)\n",
    "    disegnoPannelli.append(T([1,2,3])([dx-centroPiedeX+spessorePannello,0,0]))\n",
    "    disegnoPannelli.append(pannelloCorto)\n",
    "    pannelloLungo = CUBOID([dx,spessorePannello,altezzaCattedra/2.])\n",
    "    disegnoPannelli.append(T([1,2,3])([-dx+centroPiedeX-spessorePannello-raggioPiede/2.,dy-2*centroPiedeY+2*raggioPiede,0]))\n",
    "    disegnoPannelli.append(pannelloLungo)\n",
    "\n",
    "    #Disegno dei cassetti della cattedra\n",
    "    lunghezzaCassetto = dx/3.\n",
    "    profonditaCassetto = dy-2*centroPiedeY-2*raggioPiede\n",
    "    spessoreCassetto = spessorePannello\n",
    "    baseCassetto = CUBOID([lunghezzaCassetto,profonditaCassetto-spessoreCassetto,spessoreCassetto])\n",
    "    disegnoCassetti.append(COLOR([250/255.,235/255.,215/255.,1]))\n",
    "    altezzaCassetti = (lunghezzaCassetto*.8)/3 #divido per tre cassetti\n",
    "    disegnoCassetti.append(T([1,2,3])([dx-lunghezzaCassetto-3*spessorePannello-2*raggioPiede,centroPiedeY+raggioPiede,altezzaCassetti-spessoreTrave/2.]))   \n",
    "    disegnoCassetti.append(baseCassetto)\n",
    "    disegnoCassetti.append(T([1,2,3])([lunghezzaCassetto,0,0]))  \n",
    "    cassettoLaterale = CUBOID([spessoreCassetto,profonditaCassetto,lunghezzaCassetto*.8+spessoreCassetto])\n",
    "    disegnoCassetti.append(cassettoLaterale)\n",
    "    disegnoCassetti.append(T([1,2,3])([-lunghezzaCassetto,0,0]))  \n",
    "    disegnoCassetti.append(cassettoLaterale)\n",
    "    cassettoPosteriore = CUBOID([lunghezzaCassetto,spessoreCassetto,lunghezzaCassetto*.8+spessoreCassetto])\n",
    "    disegnoCassetti.append(T([1,2,3])([0,profonditaCassetto-spessoreCassetto,0]))  \n",
    "    disegnoCassetti.append(cassettoPosteriore)\n",
    "    cassetto = CUBOID([lunghezzaCassetto-spessoreCassetto,spessoreCassetto,altezzaCassetti])\n",
    "    disegnoCassetti.append(T([1,2,3])([spessoreCassetto,-lunghezzaCassetto/1.5-4*spessoreCassetto,spessoreCassetto]))\n",
    "    disegnoCassetti.append(cassetto)\n",
    "    disegnoCassetti.append(T([1,2,3])([0,0,altezzaCassetti+.002]))\n",
    "    disegnoCassetti.append(cassetto)\n",
    "    disegnoCassetti.append(T([1,2,3])([0,0,altezzaCassetti+.002]))\n",
    "    disegnoCassetti.append(cassetto)\n",
    "    disegnoCassetti.append(COLOR([64/255.,64/255.,64/255.,1]))\n",
    "    lunghezzaManiglia = .15\n",
    "    maniglia = CUBOID([lunghezzaManiglia,spessoreCassetto,spessoreCassetto])\n",
    "    disegnoCassetti.append(T([1,2,3])([lunghezzaCassetto/2.-lunghezzaManiglia/2,-spessoreCassetto,altezzaCassetti/2-spessoreCassetto/2.]))\n",
    "    disegnoCassetti.append(maniglia)\n",
    "    disegnoCassetti.append(T([1,2,3])([0,0,-altezzaCassetti-spessoreCassetto/2.]))\n",
    "    disegnoCassetti.append(maniglia)\n",
    "    disegnoCassetti.append(T([1,2,3])([0,0,-altezzaCassetti-spessoreCassetto/2.]))\n",
    "    disegnoCassetti.append(maniglia)\n",
    "\n",
    "    return(STRUCT([STRUCT(disegnoCattedra),\n",
    "                 STRUCT(disegnoPiedi),\n",
    "                 STRUCT(disegnoTraviCattedra),\n",
    "                 STRUCT(disegnoPannelli),\n",
    "                 STRUCT(disegnoCassetti)]))"
   ]
  },
  {
   "cell_type": "code",
   "execution_count": 47,
   "metadata": {
    "collapsed": false
   },
   "outputs": [],
   "source": [
    "disegnaCattedra(2.5,1,1)"
   ]
  },
  {
   "cell_type": "markdown",
   "metadata": {},
   "source": [
    "# Screenshot dell'oggetto HPC ottenuto"
   ]
  },
  {
   "cell_type": "markdown",
   "metadata": {},
   "source": [
    "![alt text](cattedraScreen1.png)\n",
    "![alt text](cattedraScreen2.png)"
   ]
  },
  {
   "cell_type": "markdown",
   "metadata": {},
   "source": [
    "# Modello n°2 : Sedia"
   ]
  },
  {
   "cell_type": "markdown",
   "metadata": {},
   "source": [
    "La seguente funzione prende in input dei riferimenti spaziali (dx,dy,dz) e restituisce in output l'oggetto HPC raffigurante una sedia, il cui modello preso come riferimento è il seguente:"
   ]
  },
  {
   "cell_type": "markdown",
   "metadata": {},
   "source": [
    "![text alt](sedia.jpg)"
   ]
  },
  {
   "cell_type": "code",
   "execution_count": 48,
   "metadata": {
    "collapsed": false
   },
   "outputs": [],
   "source": [
    "def disegnaSedia(dx,dy,dz):\n",
    "    disegnoPiedi = []\n",
    "    disegnoPannelli = []\n",
    "    altezzaSeduta = .46\n",
    "    altezzaSchienale = dx/1.5\n",
    "    spessoreSeduta = .01\n",
    "    raggioPiedi = .02\n",
    "    \n",
    "    #Disegno i piedi della sedia\n",
    "    disegnoPiedi.append(COLOR(GRAY))\n",
    "    disegnoPiedi.append(T([1,2,3])([raggioPiedi,raggioPiedi,0]))\n",
    "    piedeSedia = CYLINDER([raggioPiedi,altezzaSeduta])(100)\n",
    "    disegnoPiedi.append(piedeSedia)\n",
    "    disegnoPiedi.append(T([1,2,3])([dx,0,0]))\n",
    "    disegnoPiedi.append(piedeSedia)\n",
    "    disegnoPiedi.append(T([1,2,3])([0,dy,0]))\n",
    "    piedeSedia2 = CYLINDER([raggioPiedi,dz])(100)\n",
    "    disegnoPiedi.append(piedeSedia2)\n",
    "    disegnoPiedi.append(T([1,2,3])([-dx,0,0]))\n",
    "    disegnoPiedi.append(piedeSedia2)\n",
    "    \n",
    "    #Disegno la seduta e lo schienale della sedia\n",
    "    disegnoPannelli.append(COLOR([236/255.,209/255.,159/255.,1]))\n",
    "    disegnoPannelli.append(T([1,2,3])([0,0,dz-altezzaSeduta]))\n",
    "    seduta = CUBOID([dx+2*raggioPiedi,dy+2*raggioPiedi,spessoreSeduta])\n",
    "    disegnoPannelli.append(seduta)\n",
    "    schienale = CUBOID([dx+2*raggioPiedi,spessoreSeduta,altezzaSchienale])\n",
    "    disegnoPannelli.append(T([1,2,3])([0,dy-spessoreSeduta,altezzaSeduta-dx/1.5]))\n",
    "    disegnoPannelli.append(schienale)\n",
    "    \n",
    "    return(STRUCT([STRUCT(disegnoPiedi),\n",
    "                 STRUCT(disegnoPannelli)]))"
   ]
  },
  {
   "cell_type": "code",
   "execution_count": 49,
   "metadata": {
    "collapsed": false
   },
   "outputs": [],
   "source": [
    "disegnaSedia(.35,.35,.92)"
   ]
  },
  {
   "cell_type": "markdown",
   "metadata": {},
   "source": [
    "# Screenshot dell'oggetto HPC ottenuto"
   ]
  },
  {
   "cell_type": "markdown",
   "metadata": {},
   "source": [
    "![img alt](sediaScreen1.png)\n",
    "![img alt](sediaScreen2.png)"
   ]
  },
  {
   "cell_type": "markdown",
   "metadata": {},
   "source": [
    "# Modello n°3 : Lavagna"
   ]
  },
  {
   "cell_type": "markdown",
   "metadata": {},
   "source": [
    "La seguente funzione prende in input dei riferimenti spaziali (dx,dy,dz) e restituisce in output l'oggetto HPC raffigurante una lavagna, il cui modello preso come riferimento è il seguente:"
   ]
  },
  {
   "cell_type": "markdown",
   "metadata": {},
   "source": [
    "![text alt](lavagna.jpg)"
   ]
  },
  {
   "cell_type": "code",
   "execution_count": 50,
   "metadata": {
    "collapsed": false
   },
   "outputs": [],
   "source": [
    "def disegnaLavagna(dx,dy,dz):\n",
    "    disegnaStruttura = []\n",
    "    spessoreStruttura = .01\n",
    "    altezzaLavagna = .6\n",
    "    lunghezzaLavagna = .73\n",
    "    altezzaPiede = .02\n",
    "    larghezzaPilastro = .02\n",
    "      \n",
    "    #Disegno la struttura della lavagna\n",
    "    disegnaStruttura.append(COLOR([187/255.,187/255.,187/255.,1]))\n",
    "    piede = CUBOID([spessoreStruttura,dy,altezzaPiede])\n",
    "    disegnaStruttura.append(piede)\n",
    "    disegnaStruttura.append(T([1,2,3])([dx,0,0]))\n",
    "    disegnaStruttura.append(piede)\n",
    "    pilastro = CUBOID([spessoreStruttura,larghezzaPilastro,dz/2.])\n",
    "    disegnaStruttura.append(T([1,2,3])([0,dy/2-larghezzaPilastro/2.,altezzaPiede]))\n",
    "    disegnaStruttura.append(pilastro)\n",
    "    disegnaStruttura.append(T([1,2,3])([-dx,0,0]))\n",
    "    disegnaStruttura.append(pilastro)\n",
    "    trave = CUBOID([dx-spessoreStruttura,larghezzaPilastro/2.,larghezzaPilastro])\n",
    "    disegnaStruttura.append(T([1,2,3])([spessoreStruttura,larghezzaPilastro/4.,dz/12.]))\n",
    "    disegnaStruttura.append(trave)\n",
    "    disegnaStruttura.append(T([1,2,3])([0,larghezzaPilastro/4.,dz/6.]))\n",
    "    disegnaStruttura.append(trave)  \n",
    "    sostegnoLavagna = CUBOID([spessoreStruttura*2,larghezzaPilastro/2.,spessoreStruttura])\n",
    "    disegnaStruttura.append(T([1,2,3])([0,-larghezzaPilastro/4.,dz/5.]))\n",
    "    disegnaStruttura.append(sostegnoLavagna)\n",
    "    disegnaStruttura.append(T([1,2,3])([dx-3*spessoreStruttura,0,0]))\n",
    "    disegnaStruttura.append(sostegnoLavagna)\n",
    "    disegnaStruttura.append(COLOR([0,32/255.,31/255.,1]))     \n",
    "    lavagna = CUBOID([lunghezzaLavagna,spessoreStruttura/2,altezzaLavagna])\n",
    "    disegnaStruttura.append(T([1,2,3])([-lunghezzaLavagna-spessoreStruttura,0,-altezzaLavagna/2.2]))  \n",
    "    disegnaStruttura.append(lavagna)\n",
    "    disegnaStruttura.append(COLOR([205/255.,133/255.,63/255.,1]))\n",
    "    corniceLunga = CUBOID([lunghezzaLavagna+2*spessoreStruttura,larghezzaPilastro,larghezzaPilastro])\n",
    "    disegnaStruttura.append(T([1,2,3])([-spessoreStruttura,-spessoreStruttura/2.,0]))\n",
    "    disegnaStruttura.append(corniceLunga)\n",
    "    disegnaStruttura.append(T([1,2,3])([0,0,altezzaLavagna]))\n",
    "    disegnaStruttura.append(corniceLunga)\n",
    "    corniceCorta = CUBOID([larghezzaPilastro,larghezzaPilastro,altezzaLavagna])\n",
    "    disegnaStruttura.append(T([1,2,3])([0,0,-altezzaLavagna]))\n",
    "    disegnaStruttura.append(corniceCorta)\n",
    "    disegnaStruttura.append(T([1,2,3])([lunghezzaLavagna,0,0]))\n",
    "    disegnaStruttura.append(corniceCorta)\n",
    "    \n",
    "    return(STRUCT([STRUCT(disegnaStruttura)]))"
   ]
  },
  {
   "cell_type": "code",
   "execution_count": 51,
   "metadata": {
    "collapsed": false
   },
   "outputs": [],
   "source": [
    "disegnaLavagna(.8,.15,2)"
   ]
  },
  {
   "cell_type": "markdown",
   "metadata": {},
   "source": [
    "# Screenshot dell'oggetto HPC ottenuto"
   ]
  },
  {
   "cell_type": "markdown",
   "metadata": {},
   "source": [
    "![text alt](lavagnaScreen1.png)\n",
    "![text alt](lavagnaScreen2.png)"
   ]
  },
  {
   "cell_type": "markdown",
   "metadata": {},
   "source": [
    "# Modello n°4 : Banco"
   ]
  },
  {
   "cell_type": "markdown",
   "metadata": {},
   "source": [
    "La seguente funzione prende in input dei riferimenti spaziali (dx,dy,dz) e restituisce in output l'oggetto HPC raffigurante un banco, il cui modello preso come riferimento è il seguente:"
   ]
  },
  {
   "cell_type": "markdown",
   "metadata": {},
   "source": [
    "![text alt](bancoAlunni.jpg)"
   ]
  },
  {
   "cell_type": "code",
   "execution_count": 52,
   "metadata": {
    "collapsed": false
   },
   "outputs": [],
   "source": [
    "def disegnaBanco(dx,dy,dz):\n",
    "    disegnoBanco = []\n",
    "    disegnoPiedi = []\n",
    "    disegnoTraviBanco = []\n",
    "    disegnoSottobanco = []\n",
    "    spessoreBanco = .04\n",
    "    raggioPiede = .02   \n",
    "    altezzaBanco = dz-spessoreBanco\n",
    "\n",
    "    #Disegno della base della cattedra\n",
    "    disegnoBanco.append(COLOR([255/255.,229/255.,204/255.,1]))\n",
    "    disegnoBanco.append(T([1,2,3])([0,0,altezzaBanco]))\n",
    "    banco = CUBOID([dx,dy,spessoreBanco])\n",
    "    disegnoBanco.append(banco)\n",
    "    \n",
    "    #Disegno dei piedi della cattedra\n",
    "    centroPiedeX = dx*.04\n",
    "    centroPiedeY = dy*.10\n",
    "    disegnoPiedi.append(COLOR([64/255.,64/255.,64/255.,1]))\n",
    "    disegnoPiedi.append(T([1,2,3])([centroPiedeX,centroPiedeY,0]))\n",
    "    piede = CYLINDER([raggioPiede,altezzaBanco])(100)\n",
    "    disegnoPiedi.append(piede)\n",
    "    disegnoPiedi.append(T([1,2,3])([dx-2*centroPiedeX,0,0]))\n",
    "    disegnoPiedi.append(piede)\n",
    "    disegnoPiedi.append(T([1,2,3])([0,dy-2*centroPiedeY,0]))\n",
    "    disegnoPiedi.append(piede)\n",
    "    disegnoPiedi.append(T([1,2,3])([-dx+2*centroPiedeX,0,0]))\n",
    "    disegnoPiedi.append(piede)\n",
    "    \n",
    "    #Disegno delle travi della cattedra\n",
    "    spessoreTrave = spessoreBanco\n",
    "    disegnoTraviBanco.append(COLOR([64/255.,64/255.,64/255.,1]))\n",
    "    disegnoTraviBanco.append(T([1,2,3])([centroPiedeX,centroPiedeY,altezzaBanco-spessoreBanco]))\n",
    "    traveLunga = CUBOID([dx-2*centroPiedeX,spessoreBanco,spessoreBanco])\n",
    "    disegnoTraviBanco.append(traveLunga)    \n",
    "    traveCorta = CUBOID([spessoreTrave,dy-2*centroPiedeY,spessoreTrave])\n",
    "    disegnoTraviBanco.append(traveCorta)\n",
    "    disegnoTraviBanco.append(T([1,2,3])([0,dy-2*centroPiedeY-2*raggioPiede,0]))\n",
    "    disegnoTraviBanco.append(traveLunga)\n",
    "    disegnoTraviBanco.append(T([1,2,3])([dx-2*centroPiedeX-2*raggioPiede,-(dy-2*centroPiedeY-2*raggioPiede),0]))\n",
    "    disegnoTraviBanco.append(traveCorta)\n",
    "    \n",
    "    #Disegno dei sottobanchi\n",
    "    lunghezzaSottobanco = (dx-2*centroPiedeX-2*raggioPiede)/3\n",
    "    profonditaSottobanco = dy-2*centroPiedeY-2*spessoreTrave   \n",
    "    spessoreSottobanco = spessoreBanco/2.\n",
    "    sottobanco = CUBOID([lunghezzaSottobanco,profonditaSottobanco,spessoreSottobanco])\n",
    "    sottobancoLaterale = CUBOID([spessoreBanco/2.,profonditaSottobanco-spessoreTrave/2.,altezzaBanco/4.])\n",
    "    sottobancoPosteriore = CUBOID([lunghezzaSottobanco,spessoreSottobanco,altezzaBanco/4.])\n",
    "    disegnoSottobanco.append(COLOR([64/255.,64/255.,64/255.,1]))\n",
    "    disegnoSottobanco.append(T([1,2,3])([centroPiedeX+2*raggioPiede+spessoreSottobanco,centroPiedeY+raggioPiede+spessoreSottobanco,altezzaBanco-4*spessoreBanco]))\n",
    "    disegnoSottobanco.append(sottobanco)\n",
    "    disegnoSottobanco.append(sottobancoLaterale)\n",
    "    disegnoSottobanco.append(T([1,2,3])([lunghezzaSottobanco-spessoreSottobanco,0,0]))\n",
    "    disegnoSottobanco.append(sottobancoLaterale)\n",
    "    disegnoSottobanco.append(T([1,2,3])([-lunghezzaSottobanco+spessoreSottobanco,profonditaSottobanco-spessoreSottobanco,0]))\n",
    "    disegnoSottobanco.append(sottobancoPosteriore)  \n",
    "    disegnoSottobanco.append(T([1,2,3])([2*lunghezzaSottobanco-spessoreTrave-2*spessoreSottobanco,-profonditaSottobanco+spessoreSottobanco,0]))\n",
    "    disegnoSottobanco.append(sottobancoLaterale)\n",
    "    disegnoSottobanco.append(sottobanco)\n",
    "    disegnoSottobanco.append(T([1,2,3])([lunghezzaSottobanco-spessoreSottobanco,0,0]))\n",
    "    disegnoSottobanco.append(sottobancoLaterale)\n",
    "    disegnoSottobanco.append(T([1,2,3])([-lunghezzaSottobanco+spessoreSottobanco,profonditaSottobanco-spessoreSottobanco,0]))\n",
    "    disegnoSottobanco.append(sottobancoPosteriore)\n",
    "\n",
    "    return(STRUCT([STRUCT(disegnoBanco),\n",
    "                 STRUCT(disegnoPiedi),\n",
    "                 STRUCT(disegnoTraviBanco),\n",
    "                 STRUCT(disegnoSottobanco)\n",
    "                ]))"
   ]
  },
  {
   "cell_type": "code",
   "execution_count": 53,
   "metadata": {
    "collapsed": false
   },
   "outputs": [],
   "source": [
    "disegnaBanco(1.2,.55,.65)"
   ]
  },
  {
   "cell_type": "markdown",
   "metadata": {},
   "source": [
    "# Screenshot dell'oggetto HPC ottenuto"
   ]
  },
  {
   "cell_type": "markdown",
   "metadata": {},
   "source": [
    "![text alt](bancoScreen1.png)\n",
    "![text alt](bancoScreen2.png)"
   ]
  },
  {
   "cell_type": "markdown",
   "metadata": {},
   "source": [
    "# Funzione finale: disegnaAula"
   ]
  },
  {
   "cell_type": "markdown",
   "metadata": {},
   "source": [
    "Sfruttando le funzioni definite in precedenza, la seguente funzione costruisce e predispone nello spazio più copie dei singoli oggetti, ricostruendo un tipico modello di aula scolastica"
   ]
  },
  {
   "cell_type": "code",
   "execution_count": 54,
   "metadata": {
    "collapsed": false
   },
   "outputs": [],
   "source": [
    "def disegnaAula():\n",
    "    disegno = []\n",
    "    \n",
    "    #Costruiamo i singoli oggetti,usando le funzioni precedenti\n",
    "    cattedra = disegnaCattedra(2.5,1,1)\n",
    "    lavagna = disegnaLavagna(.8,.15,2)\n",
    "    banco = disegnaBanco(1.2,.55,.75)\n",
    "    sedia = disegnaSedia(.35,.35,.92)\n",
    "    \n",
    "    #Inserisco nel disegno finale tutti i modelli necessari\n",
    "    disegno.append(T([1,2,3])([1.5,1,0]))\n",
    "    disegno.append(R([1,2])(PI))\n",
    "    disegno.append(sedia)\n",
    "    disegno.append(R([1,2])(-PI))\n",
    "    disegno.append(T([1,2,3])([-.7,0,0]))\n",
    "    disegno.append(S([1,2,3])([.7,.7,.7]))    \n",
    "    disegno.append(cattedra)\n",
    "    disegno.append(T([1,2,3])([4,0,0]))    \n",
    "    disegno.append(S([1,2,3])([2,2,2]))    \n",
    "    disegno.append(lavagna)\n",
    "    disegno.append(S([1,2,3])([.7,.7,.7]))\n",
    "    disegno.append(T([1,2,3])([2,2,0]))\n",
    "    \n",
    "    #Disegno la prima fila di banchi\n",
    "    for i in range(3):\n",
    "        disegno.append(R([1,2])(PI))\n",
    "        disegno.append(banco)\n",
    "        disegno.append(R([1,2])(-PI))\n",
    "        disegno.append(T([1,2,3])([-.5,0,0]))\n",
    "        disegno.append(sedia)\n",
    "        disegno.append(T([1,2,3])([-.6,0,0]))\n",
    "        disegno.append(sedia)      \n",
    "        disegno.append(T([1,2,3])([-1,0,0]))\n",
    "    \n",
    "    disegno.append(T([1,2,3])([6.3,2,0]))\n",
    "\n",
    "    #Disegno la seconda fila di banchi\n",
    "    for i in range(3):\n",
    "        disegno.append(R([1,2])(PI))\n",
    "        disegno.append(banco)\n",
    "        disegno.append(R([1,2])(-PI))\n",
    "        disegno.append(T([1,2,3])([-.5,0,0]))\n",
    "        disegno.append(sedia)\n",
    "        disegno.append(T([1,2,3])([-.6,0,0]))\n",
    "        disegno.append(sedia)\n",
    "        disegno.append(T([1,2,3])([-1,0,0]))\n",
    "\n",
    "    disegno.append(T([1,2,3])([6.3,2,0]))\n",
    "\n",
    "    #Disegno la terza fila di banchi\n",
    "    for i in range(3):\n",
    "        disegno.append(R([1,2])(PI))\n",
    "        disegno.append(banco)\n",
    "        disegno.append(R([1,2])(-PI))\n",
    "        disegno.append(T([1,2,3])([-.5,0,0]))\n",
    "        disegno.append(sedia)\n",
    "        disegno.append(T([1,2,3])([-.6,0,0]))\n",
    "        disegno.append(sedia)\n",
    "        disegno.append(T([1,2,3])([-1,0,0]))        \n",
    "    \n",
    "    VIEW(STRUCT(disegno))"
   ]
  },
  {
   "cell_type": "code",
   "execution_count": 55,
   "metadata": {
    "collapsed": false
   },
   "outputs": [],
   "source": [
    "disegnaAula()"
   ]
  },
  {
   "cell_type": "markdown",
   "metadata": {},
   "source": [
    "# Screenshot del modello finale ottenuto"
   ]
  },
  {
   "cell_type": "markdown",
   "metadata": {},
   "source": [
    "![img alt](aulaScreen1.png)\n",
    "![img alt](aulaScreen2.png)"
   ]
  }
 ],
 "metadata": {
  "anaconda-cloud": {},
  "kernelspec": {
   "display_name": "Python [default]",
   "language": "python",
   "name": "python2"
  },
  "language_info": {
   "codemirror_mode": {
    "name": "ipython",
    "version": 2
   },
   "file_extension": ".py",
   "mimetype": "text/x-python",
   "name": "python",
   "nbconvert_exporter": "python",
   "pygments_lexer": "ipython2",
   "version": "2.7.12"
  }
 },
 "nbformat": 4,
 "nbformat_minor": 1
}
