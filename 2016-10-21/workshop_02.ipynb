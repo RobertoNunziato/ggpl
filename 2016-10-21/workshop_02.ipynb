{
 "cells": [
  {
   "cell_type": "markdown",
   "metadata": {},
   "source": [
    "# Workshop n°2: Parametric (spatial) building frame in reinforced concrete"
   ]
  },
  {
   "cell_type": "markdown",
   "metadata": {},
   "source": [
    "# Roberto Nunziato, matricola: 438778"
   ]
  },
  {
   "cell_type": "markdown",
   "metadata": {},
   "source": [
    "<h2>Descrizione</h2>"
   ]
  },
  {
   "cell_type": "markdown",
   "metadata": {},
   "source": [
    "Sfruttando il progetto del workshop n°1 l'obiettivo è quello di realizzare una struttura in cemento armato, realizzata  prendendo spunto da questo modello di riferimento:"
   ]
  },
  {
   "cell_type": "markdown",
   "metadata": {},
   "source": [
    "![alt text](modelloDisegno.png)\n"
   ]
  },
  {
   "cell_type": "markdown",
   "metadata": {},
   "source": [
    "<h2>Librerie importate</h2>"
   ]
  },
  {
   "cell_type": "code",
   "execution_count": 1,
   "metadata": {
    "collapsed": false
   },
   "outputs": [
    {
     "name": "stdout",
     "output_type": "stream",
     "text": [
      "Evaluating fenvs.py..\n",
      "...fenvs.py imported in 0.005652 seconds\n"
     ]
    }
   ],
   "source": [
    "from pyplasm import *\n",
    "import csv"
   ]
  },
  {
   "cell_type": "markdown",
   "metadata": {},
   "source": [
    "<h2>Funzione che disegna un telaio piano</h2>"
   ]
  },
  {
   "cell_type": "code",
   "execution_count": 2,
   "metadata": {
    "collapsed": false
   },
   "outputs": [],
   "source": [
    "\"\"\"Input: beamSection,pillarSection,distPillar,interstoryHeight\"\"\"\n",
    "\n",
    "def draw(beamSection,pillarSection,distPillar,interstoryHeight):\n",
    "    px = pillarSection[0]\n",
    "    py = pillarSection[1]\n",
    "    bx = beamSection[0]\n",
    "    bz = beamSection[1]\n",
    "    xPillar = []\n",
    "    yPillar = []\n",
    "    zPillar = []\n",
    "    xBeam = []\n",
    "    yBeam = []\n",
    "    zBeam = [] \n",
    "    distance = 0  #distance between pillars\n",
    "    \"\"\"Build pillars\"\"\"\n",
    "    for i in distPillar:\n",
    "        xPillar = [px]\n",
    "        yPillar = yPillar + [py,-i]\n",
    "        distance = distance + i + py   \n",
    "    yPillar = yPillar + [py]\n",
    "\n",
    "    \"\"\"Build beams\"\"\"\n",
    "    for i in interstoryHeight:\n",
    "        zPillar = zPillar + [i,-bz] \n",
    "        xBeam = [bx]\n",
    "        yBeam = [distance+py]\n",
    "        zBeam = zBeam + [-i,bz]\n",
    "\n",
    "    pilTemp = PROD([QUOTE(xPillar),QUOTE(yPillar)])\n",
    "    pillar = PROD([pilTemp,QUOTE(zPillar)])\n",
    "    traTemp = PROD([QUOTE(xBeam),QUOTE(yBeam)])\n",
    "    beam = PROD([traTemp,QUOTE(zBeam)])\n",
    "\n",
    "    model = STRUCT([pillar,beam])\n",
    "    return model\n"
   ]
  },
  {
   "cell_type": "markdown",
   "metadata": {},
   "source": [
    "<h2>Funzione che costruisce le travi orizzontali</h2>"
   ]
  },
  {
   "cell_type": "code",
   "execution_count": 3,
   "metadata": {
    "collapsed": false
   },
   "outputs": [],
   "source": [
    "def drawOrizzontalBeam(bx,bz,px,py,distPillar,interstoryHeight):\n",
    "    xBeamOrizz = [bx]\n",
    "    yBeamOrizz = []\n",
    "    zBeamOrizz = []\n",
    "    \n",
    "    for i in interstoryHeight:\n",
    "        zBeamOrizz = zBeamOrizz + [-i,bz]\n",
    "    for i in distPillar:\n",
    "        yBeamOrizz = yBeamOrizz + [py,-i]\n",
    "    yBeamOrizz = yBeamOrizz + [py]\n",
    "    traOrizzTemp = PROD([QUOTE(xBeamOrizz),QUOTE(yBeamOrizz)])\n",
    "    beamOrizz = PROD([traOrizzTemp,QUOTE(zBeamOrizz)])\n",
    "\n",
    "    model = STRUCT([beamOrizz])\n",
    "    return model\n"
   ]
  },
  {
   "cell_type": "markdown",
   "metadata": {},
   "source": [
    "<h2>Funzione che legge dal file .csv e costruisce la struttura finale</h2>"
   ]
  },
  {
   "cell_type": "markdown",
   "metadata": {},
   "source": [
    "L'input della funzione è rappresentato da un file .csv, in cui:\n",
    "\n",
    "-Nelle linee dispari ci sono i vettori di traslazione tridimensionali\n",
    "\n",
    "-Nelle linee pari ci sono i parametri di riferimento del telaio piano   (beamSection,pillarSection,distPillar,interstoryHeight)"
   ]
  },
  {
   "cell_type": "code",
   "execution_count": 4,
   "metadata": {
    "collapsed": false
   },
   "outputs": [],
   "source": [
    "def ggpl_bone_structure(fileName):\n",
    "    x = []\n",
    "    y = []\n",
    "    z = []\n",
    "    frames = []\n",
    "    transactions = []\n",
    "    orizzontalBeam = []\n",
    "    structure = []\n",
    "    structure2 = []\n",
    "    Vx=0\n",
    "    \n",
    "    with open(fileName,'rU') as csvfile:\n",
    "        reader = csv.DictReader(csvfile)\n",
    "        cont = 2 #contatore righe\n",
    "        for row in reader:\n",
    "            if(cont%2 != 0): #riga dispari\n",
    "                beamSection = row['x'].replace(\"(\",\"\").replace(\")\",\"\").split(\";\")\n",
    "                pillarSection = row['y'].replace(\"(\",\"\").replace(\")\",\"\").split(\";\")\n",
    "                beamSectionX = eval(beamSection[0])\n",
    "                beamSectionZ = eval(beamSection[1])\n",
    "                pillarSectionX = eval(pillarSection[0])\n",
    "                pillarSectionY = eval(pillarSection[1])\n",
    "                                         \n",
    "                distPillar = []\n",
    "                for elem in row['z'].replace(\"[\",\"\").replace(\"]\",\"\").split(\";\"):\n",
    "                    distPillar.append(eval(elem))\n",
    "                \n",
    "                interstoryHeight = []\n",
    "                for elem in row['k'].replace(\"[\",\"\").replace(\"]\",\"\").split(\";\"):\n",
    "                    interstoryHeight.append(eval(elem))\n",
    "                \n",
    "                orizzontalBeam.append(drawOrizzontalBeam(Vx,beamSectionZ,pillarSectionX,pillarSectionY,distPillar,interstoryHeight))                                                             \n",
    "                frames.append(draw((beamSectionX,beamSectionZ),(pillarSectionX,pillarSectionY),distPillar,interstoryHeight))\n",
    "                \n",
    "            if(cont%2 == 0): #riga pari\n",
    "                Vx = x = eval(row['x'])\n",
    "                y = eval(row['y'])\n",
    "                z = eval(row['z'])\n",
    "                transactions.append(T([1,2,3])([x,y,z]))\n",
    "               \n",
    "            cont = cont+1\n",
    "            \n",
    "    i = 0\n",
    "    for elem in frames:\n",
    "        structure.append(transactions[i])\n",
    "        structure.append(frames[i])\n",
    "        if(i+1 < len(frames)):\n",
    "            structure2.append(transactions[i])\n",
    "            structure2.append(orizzontalBeam[i+1])\n",
    "        i = i+1\n",
    "        \n",
    "    view1 = STRUCT(structure)\n",
    "    view2 = STRUCT(structure2)\n",
    "    VIEW(STRUCT([view1,view2]))\n",
    "    "
   ]
  },
  {
   "cell_type": "code",
   "execution_count": 5,
   "metadata": {
    "collapsed": false
   },
   "outputs": [],
   "source": [
    "ggpl_bone_structure(\"frame_data_438778.csv\")"
   ]
  },
  {
   "cell_type": "markdown",
   "metadata": {
    "collapsed": true
   },
   "source": [
    "<h2>Risultato ottenuto: </h2>\n"
   ]
  },
  {
   "cell_type": "markdown",
   "metadata": {},
   "source": [
    "![alt text](strutturaFinale.png)"
   ]
  },
  {
   "cell_type": "code",
   "execution_count": null,
   "metadata": {
    "collapsed": true
   },
   "outputs": [],
   "source": []
  }
 ],
 "metadata": {
  "anaconda-cloud": {},
  "kernelspec": {
   "display_name": "Python [default]",
   "language": "python",
   "name": "python2"
  },
  "language_info": {
   "codemirror_mode": {
    "name": "ipython",
    "version": 2
   },
   "file_extension": ".py",
   "mimetype": "text/x-python",
   "name": "python",
   "nbconvert_exporter": "python",
   "pygments_lexer": "ipython2",
   "version": "2.7.12"
  }
 },
 "nbformat": 4,
 "nbformat_minor": 1
}
