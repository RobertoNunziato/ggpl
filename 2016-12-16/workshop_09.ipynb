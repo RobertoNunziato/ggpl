{
 "cells": [
  {
   "cell_type": "markdown",
   "metadata": {},
   "source": [
    "# Workshop n°9: Draw variable roof"
   ]
  },
  {
   "cell_type": "markdown",
   "metadata": {},
   "source": [
    "# Roberto Nunziato, matricola 438778"
   ]
  },
  {
   "cell_type": "markdown",
   "metadata": {},
   "source": [
    "# Descrizione"
   ]
  },
  {
   "cell_type": "markdown",
   "metadata": {},
   "source": [
    "L'obiettivo di questo workshop è quello di riuscire a costruire un tetto, a prescindere dal poligono di base che ne costituisce il perimetro. Nella risoluzione si è seguito il seguente approccio:     \n",
    "\n",
    "1) Si determina il valore degli angoli interni del poligono    \n",
    "2) Si verifica quali sono gli angoli convessi del poligono         \n",
    "3) Si costruisce la base del tetto       \n",
    "3) Per ciascuna coppia di segmenti adiacenti del poligono, si costruiscono le facce delle falde        \n",
    "4) Si determinano i punti di incrocio delle facce, che rappresentano i vertici delle falde poste ad un'altezza fissata      \n",
    "5) Si costuisce il tetto finale    "
   ]
  },
  {
   "cell_type": "markdown",
   "metadata": {},
   "source": [
    "# Librerie importate"
   ]
  },
  {
   "cell_type": "code",
   "execution_count": 9,
   "metadata": {
    "collapsed": false
   },
   "outputs": [],
   "source": [
    "from pyplasm import *\n",
    "from fpformat import *\n",
    "import math"
   ]
  },
  {
   "cell_type": "markdown",
   "metadata": {},
   "source": [
    "# Codice per la realizzazione del modello finale"
   ]
  },
  {
   "cell_type": "markdown",
   "metadata": {},
   "source": [
    "# Funzione 1: creaListaAngoli"
   ]
  },
  {
   "cell_type": "markdown",
   "metadata": {},
   "source": [
    "La seguente funzione prende in input la lista dei vertici che compongono il poligono di base e resituisce, in una lista, il valore in gradi degli angoli interni del poligono"
   ]
  },
  {
   "cell_type": "code",
   "execution_count": 10,
   "metadata": {
    "collapsed": false
   },
   "outputs": [],
   "source": [
    "\"\"\"\n",
    "    @param listaVertici: array di vertici che compongono il poligono di base\n",
    "    @return listaAngoli: lista degli angoli\n",
    "\"\"\"\n",
    "def creaListaAngoli(listaVertici):\n",
    "    \n",
    "    #Nella listaArcTan, in corrispondenza dell'indice del segmento memorizzo il valore\n",
    "    #dell'arcotangente \n",
    "    listaArcTan = []\n",
    "    listaAngoli = []\n",
    "    for index in range(0,len(listaVertici)-1):\n",
    "        x = listaVertici[index+1][0]-listaVertici[index][0]\n",
    "        y = listaVertici[index+1][1]-listaVertici[index][1]\n",
    "        #Uso la funzione atan2 che calcola l'arcotangente, dati x ed y (math.degrees converte la misura in gradi)\n",
    "        arctan = math.degrees(math.atan2(y,x))\n",
    "        if arctan + 180 <= 180:\n",
    "            listaArcTan.append([arctan,arctan+180])\n",
    "        else:\n",
    "            listaArcTan.append([arctan,arctan-180])\n",
    "    \n",
    "    #Mi scorro la lista delle arcotangenti e mi calcolo il valore effettivo dell'angolo \n",
    "    for index in range(0,len(listaArcTan)-1):\n",
    "        angolo = listaArcTan[index][1]-listaArcTan[index+1][0]\n",
    "        #Se l'angolo è negativo, gli sommo 360°\n",
    "        if angolo < 0:\n",
    "            listaAngoli.append(angolo+360)\n",
    "        else:\n",
    "            listaAngoli.append(angolo)\n",
    "    #Elaboro l'ultimo elemento della lista\n",
    "    angolo = listaArcTan[len(listaArcTan)-1][1]-listaArcTan[0][0]\n",
    "    if angolo < 0:\n",
    "        listaAngoli.append(angolo+360)\n",
    "    else:\n",
    "        listaAngoli.append(angolo)\n",
    "    return listaAngoli\n"
   ]
  },
  {
   "cell_type": "markdown",
   "metadata": {},
   "source": [
    "# Funzione 2: listaAngoliConvessi"
   ]
  },
  {
   "cell_type": "markdown",
   "metadata": {},
   "source": [
    "La seguente funzione prende in input la lista dei valori degli angoli interni del poligono e restituisce la lista degli angoli convessi"
   ]
  },
  {
   "cell_type": "code",
   "execution_count": 11,
   "metadata": {
    "collapsed": true
   },
   "outputs": [],
   "source": [
    "\"\"\"\n",
    "    @param listaAngoli: angoli calcolati dalla funzione precedente\n",
    "    @return angoliConvessi: lista degli indici in corrispondenza dei quali ci sono angoli convessi\n",
    "\"\"\"\n",
    "#Funzione che, data la lista degli angoli, restituisce in una lista gli angoli del poligono che sono convessi\n",
    "def listaAngoliConvessi(listaAngoli):\n",
    "    angoliConvessi = []\n",
    "    for index in range(0,len(listaAngoli)-1):\n",
    "        #math.fabs restituisce il valore assoluto\n",
    "        if math.fabs(listaAngoli[index]) > 180:\n",
    "            angoliConvessi.append(index+1)\n",
    "    return angoliConvessi"
   ]
  },
  {
   "cell_type": "markdown",
   "metadata": {},
   "source": [
    "# Funzione 3: disegnaBaseTetto"
   ]
  },
  {
   "cell_type": "markdown",
   "metadata": {},
   "source": [
    "La seguente funzione prende in input la lista dei vertici che compongono il poligono di base, la lista degli angoli convessi e crea la base del tetto"
   ]
  },
  {
   "cell_type": "code",
   "execution_count": 12,
   "metadata": {
    "collapsed": true
   },
   "outputs": [],
   "source": [
    "\"\"\"\n",
    "    @param vertici: lista dei vertici che compongono il poligono di base\n",
    "    @param angoliConvessi: lista degli indici degli angoli convessi del poligono\n",
    "    @return lista,vertici: lista contiene i vertici non usati nella costruzione\n",
    "\"\"\"   \n",
    "#Funzione che, data la lista dei vertici del poligono e la lista degli angoli convessi, crea la base del tetto\n",
    "def disegnaBaseTetto(vertici,angoliConvessi):\n",
    "    lista = []\n",
    "    del vertici[-1]\n",
    "    if len(angoliConvessi) > 0:\n",
    "        for index in angoliConvessi:\n",
    "            if index == 1:\n",
    "                lista.append([1,2,len(vertici)])\n",
    "            else:\n",
    "                lista.append([index-1,index,index+1])\n",
    "    #Lista dei vertici inclusi nei piani aggiuntivi\n",
    "    verticiUsati = []\n",
    "    for elem in lista[0]:\n",
    "        verticiUsati.append(elem)\n",
    "    #Lista dei vertici non inclusi\n",
    "    verticiNonUsati = []\n",
    "    for elem in range(1,len(vertici)):\n",
    "        if elem not in verticiUsati:\n",
    "            verticiNonUsati.append(elem)\n",
    "            \n",
    "    verticiNonUsati.append(verticiUsati[len(verticiUsati)-2])\n",
    "    verticiNonUsati.append(verticiUsati[len(verticiUsati)-1])\n",
    "    lista.append(verticiNonUsati)\n",
    "    return [lista, vertici]"
   ]
  },
  {
   "cell_type": "markdown",
   "metadata": {},
   "source": [
    "# Funzione 4: creaPiano"
   ]
  },
  {
   "cell_type": "markdown",
   "metadata": {},
   "source": [
    "La seguente funzione prende in input la lista dei vertici che compongono il poligono di base, l'altezza a cui verrà posta la falda e restituisce la lista di tutti i piani (vengono costruiti i piani dei segmenti adiacenti)"
   ]
  },
  {
   "cell_type": "code",
   "execution_count": 13,
   "metadata": {
    "collapsed": true
   },
   "outputs": [],
   "source": [
    "\"\"\"\n",
    "    @param vertici: lista dei vertici che compongono il poligono di base\n",
    "    @param h: altezza a cui verrà posta la falda\n",
    "    @return piani: lista dei piani costruiti per segmenti adiacenti del poligono\n",
    "\"\"\"   \n",
    "def creaPiano(vertici,h):\n",
    "    piani = []\n",
    "    #Valuto l'orientamento dei segmenti nel piano\n",
    "    for index in range(0,len(vertici)-1):\n",
    "        v1 = vertici[index]\n",
    "        v2 = vertici[index+1]\n",
    "        #se l'ascissa del secondo punto è maggiore, il segmento è rivolto verso l'alto\n",
    "        if v1[0]<v2[0]:\n",
    "            m = (v2[1]-v1[1])/(v2[0]-v1[0])\n",
    "            #Valuto la pendenza, prendendo un valore costante\n",
    "            if math.fabs(m)<5:\n",
    "                v3 = [v1[0]-1,v1[1]+1]  \n",
    "                v4 = [v2[0],v2[1]+1]\n",
    "            else:\n",
    "                if m>0:    \n",
    "                    v3 = [v1[0]-1,v1[1]+1]\n",
    "                    v4 = [v2[0]-1,v2[1]+1]\n",
    "                else:\n",
    "                    v3 = [v1[0]+1,v1[1]+1]\n",
    "                    v4 = [v2[0]+1,v2[1]+1]\n",
    "        else:\n",
    "            m = -1*(v2[1]-v1[1])/(v2[0]-v1[0])\n",
    "            if math.fabs(m)<5:\n",
    "                v3 = [v1[0]+1,v1[1]-1]   \n",
    "                v4 = [v2[0],v2[1]-1]\n",
    "            else:\n",
    "                if m>0:    \n",
    "                    v3 = [v1[0]-1,v1[1]-1]\n",
    "                    v4 = [v2[0]-1,v2[1]-1]\n",
    "                else:\n",
    "                    v3 = [v1[0]+1,v1[1]-1]\n",
    "                    v4 = [v2[0]+1,v2[1]-1]\n",
    "        punti = [v1,v2,v3,v4]\n",
    "        celle = [[1,2,3,4]]\n",
    "        piano = MKPOL([punti,celle,None])\n",
    "        piani.append(piano)\n",
    "    piani.append(piani[0])    \n",
    "    return piani"
   ]
  },
  {
   "cell_type": "markdown",
   "metadata": {},
   "source": [
    "# Funzione 5: intersezionePiani"
   ]
  },
  {
   "cell_type": "markdown",
   "metadata": {},
   "source": [
    "La seguente funzione prende in input la lista dei piani del poligono costruita dalla funzione precedente, calcola l'intersezione tra i piani e ne restituisce i vertici in una lista"
   ]
  },
  {
   "cell_type": "code",
   "execution_count": 14,
   "metadata": {
    "collapsed": true
   },
   "outputs": [],
   "source": [
    "\"\"\"\n",
    "    @param listaPiani: lista dei piani\n",
    "    @return puntiInterni: lista punti di intersezione tra piani adiacenti del poligono\n",
    "\"\"\"   \n",
    "#Funzione che, data la lista dei piani, restituisce i punti di intersezione che comporranno i punti interni\n",
    "#del tetto\n",
    "def intersezionePiani(listaPiani):\n",
    "    puntiInterni = []\n",
    "    for index in range(0,len(listaPiani)-1):\n",
    "        intersezione = INTERSECTION([listaPiani[index],listaPiani[index+1]])\n",
    "        punti = UKPOL(SKEL_0(intersezione))[0]\n",
    "        puntiPiano1 = UKPOL(SKEL_2(listaPiani[index]))[0]\n",
    "        puntiPiano2 = UKPOL(SKEL_2(listaPiani[index+1]))[0]\n",
    "        puntiIntersezione = []\n",
    "        puntiPiano1puliti = []\n",
    "        puntiPiano2puliti = []\n",
    "        \n",
    "        for p in puntiPiano1:\n",
    "            l = []\n",
    "            for x in p:\n",
    "                l.append(float(fix(x,3)))\n",
    "            puntiPiano1puliti.append(l)\n",
    "\n",
    "        for p in puntiPiano2:\n",
    "            l = []\n",
    "            for x in p:\n",
    "                l.append(float(fix(x,3)))\n",
    "            puntiPiano2puliti.append(l)\n",
    "\n",
    "        for p in punti:\n",
    "            l = []\n",
    "            for x in p:\n",
    "                l.append(float(fix(x,3)))\n",
    "            puntiIntersezione.append(l)         \n",
    "        puntiIntersezioneInterni = []\n",
    "        for p in puntiIntersezione:\n",
    "            if p not in puntiPiano2 and p not in puntiPiano1:\n",
    "                puntiIntersezioneInterni.append(p)\n",
    "        #Calcolo il punto medio dei punti di interesse da usare come vertice interno\n",
    "        sommaX = 0 \n",
    "        sommaY = 0\n",
    "        cont = 0       \n",
    "        for p in puntiIntersezioneInterni:\n",
    "            sommaX = sommaX + p[0]\n",
    "            sommaY = sommaY + p[1]\n",
    "            cont = cont + 1\n",
    "        puntoMedio = [float(fix(sommaX/cont,3)),float(fix(sommaY/cont,3)),1]\n",
    "        puntiInterni.append(puntoMedio)\n",
    "        \n",
    "    #Sposto l'ultimo elemento della lista in prima posizione\n",
    "    x = puntiInterni[-1]\n",
    "    puntiInterni.insert(0, x)\n",
    "    return puntiInterni\n"
   ]
  },
  {
   "cell_type": "markdown",
   "metadata": {},
   "source": [
    "# Funzione 6: disegnaTetto"
   ]
  },
  {
   "cell_type": "markdown",
   "metadata": {},
   "source": [
    "La seguente funzione prende in input la lista dei vertici del poligono, l'altezza a cui deve essere posta la falda e restituisce l'oggetto HPC del tetto"
   ]
  },
  {
   "cell_type": "code",
   "execution_count": 15,
   "metadata": {
    "collapsed": false
   },
   "outputs": [],
   "source": [
    "\"\"\"\n",
    "    @param listaVertici: lista dei vertici che compongono il poligono di base\n",
    "    @param h: altezza a cui deve essere posta la falda\n",
    "    @return oggetto HPC del tetto\n",
    "\"\"\"      \n",
    "def disegnaTetto(listaVertici, h):\n",
    "    perimetro = STRUCT(AA(POLYLINE)([listaVertici]))\n",
    "    angoli = creaListaAngoli(listaVertici)\n",
    "    angoliConvessi = listaAngoliConvessi(angoli)\n",
    "    baseTetto = disegnaBaseTetto(listaVertici,angoliConvessi)    \n",
    "    lista = baseTetto[0]\n",
    "    vertici = baseTetto[1]\n",
    "    \n",
    "    sottotetto = []\n",
    "    sottotetto.append(MKPOL([vertici,lista,None]))\n",
    "\n",
    "    listaVertici.insert(len(listaVertici),polygonVertex[0])\n",
    "\n",
    "    piani = creaPiano(listaVertici,h)\n",
    "    puntiInterni = intersezionePiani(piani)\n",
    "    \n",
    "    sovratetto = []\n",
    "    sovratetto.append(MKPOL([puntiInterni,lista,None]))  \n",
    "    \n",
    "    falde = []#costruisco le varie falde del tetto\n",
    "    falde.append(TEXTURE(['tegole.jpg',TRUE,FALSE,1,1,0,15,20]))\n",
    "    \n",
    "    for i in range(0, len(listaVertici)-1):\n",
    "        if len(listaVertici[i])<3:\n",
    "            listaVertici[i].insert(len(listaVertici[i]),0)\n",
    "        if len(listaVertici[i+1])<3:\n",
    "            listaVertici[i+1].insert(len(listaVertici[i+1]),0)\n",
    "        punti = [listaVertici[i],listaVertici[i+1],puntiInterni[i+1],puntiInterni[i]]\n",
    "        celle = [[1,2,3,4]] \n",
    "        falde.append(MKPOL([punti,celle,None]))\n",
    "    return STRUCT([STRUCT(falde),STRUCT(sottotetto),STRUCT(sovratetto)])"
   ]
  },
  {
   "cell_type": "code",
   "execution_count": 16,
   "metadata": {
    "collapsed": false
   },
   "outputs": [
    {
     "data": {
      "text/plain": [
       "<pyplasm.xgepy.Hpc; proxy of <Swig Object of type 'std::shared_ptr< Hpc > *' at 0x10e750b40> >"
      ]
     },
     "execution_count": 16,
     "metadata": {},
     "output_type": "execute_result"
    }
   ],
   "source": [
    "#Definisco i vertici del poligono\n",
    "polygonVertex = [[1.,1.],[6.,2.],[12.,1.],[15.,5.],[10.,8.],[8.,7.],[5.,5.],[1.,1.]]\n",
    "tetto = disegnaTetto(polygonVertex, 1)\n",
    "VIEW(tetto)"
   ]
  },
  {
   "cell_type": "markdown",
   "metadata": {},
   "source": [
    "# Screenshot dell'oggetto HPC ottenuto"
   ]
  },
  {
   "cell_type": "markdown",
   "metadata": {},
   "source": [
    "![text-alt](Screenshot1.png)\n",
    "![text-alt](Screenshot2.png)\n",
    "![text-alt](Screenshot3.png)"
   ]
  }
 ],
 "metadata": {
  "anaconda-cloud": {},
  "kernelspec": {
   "display_name": "Python [default]",
   "language": "python",
   "name": "python2"
  },
  "language_info": {
   "codemirror_mode": {
    "name": "ipython",
    "version": 2
   },
   "file_extension": ".py",
   "mimetype": "text/x-python",
   "name": "python",
   "nbconvert_exporter": "python",
   "pygments_lexer": "ipython2",
   "version": "2.7.12"
  }
 },
 "nbformat": 4,
 "nbformat_minor": 1
}
